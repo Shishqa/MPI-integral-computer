{
 "cells": [
  {
   "cell_type": "markdown",
   "id": "0ba3998d-a4f9-44f1-a498-3e0b00ff5c94",
   "metadata": {},
   "source": [
    "# Investigating the dependence of the acceleration of calculating the integral on the number of processes"
   ]
  },
  {
   "cell_type": "code",
   "execution_count": 1,
   "id": "11725f33-29ef-4ac2-97de-b42df5b09906",
   "metadata": {},
   "outputs": [],
   "source": [
    "import pandas as pd\n",
    "import matplotlib.pyplot as plt"
   ]
  },
  {
   "cell_type": "markdown",
   "id": "94569460-d769-48cb-8ec3-7a985ebb5b0b",
   "metadata": {},
   "source": [
    "The measurements are provided by running `compute-integral` executable on the MPI cluster"
   ]
  },
  {
   "cell_type": "code",
   "execution_count": 2,
   "id": "9c3ec9be-b80d-4505-9f59-800a09add43b",
   "metadata": {},
   "outputs": [
    {
     "name": "stdout",
     "output_type": "stream",
     "text": [
      "        parts  proc     accel\n",
      "0        1000     1  0.655818\n",
      "1        1000     2  0.541834\n",
      "2        1000     3  0.627887\n",
      "3        1000     4  0.309074\n",
      "4        1000     5  0.310000\n",
      "5        1000     6  0.249946\n",
      "6        1000     7  0.289921\n",
      "7        1000     8  0.227441\n",
      "8     1000000     1  1.000090\n",
      "9     1000000     2  1.976850\n",
      "10    1000000     3  2.983400\n",
      "11    1000000     4  3.869470\n",
      "12    1000000     5  4.789020\n",
      "13    1000000     6  5.608210\n",
      "14    1000000     7  6.492250\n",
      "15    1000000     8  6.930640\n",
      "16  100000000     1  1.008340\n",
      "17  100000000     2  1.987520\n",
      "18  100000000     3  3.167620\n",
      "19  100000000     4  5.193120\n",
      "20  100000000     5  3.850840\n",
      "21  100000000     6  5.838530\n",
      "22  100000000     7  6.814340\n",
      "23  100000000     8  7.804440\n"
     ]
    }
   ],
   "source": [
    "results_path = \"mpi.csv\"\n",
    "\n",
    "data = pd.read_csv(results_path)\n",
    "print(data)"
   ]
  },
  {
   "cell_type": "code",
   "execution_count": 3,
   "id": "e35e610f-bd49-4fd1-a7ee-49daaa3754b9",
   "metadata": {},
   "outputs": [
    {
     "data": {
      "text/plain": [
       "Text(0.5, 0, 'number of MPI processes')"
      ]
     },
     "execution_count": 3,
     "metadata": {},
     "output_type": "execute_result"
    },
    {
     "data": {
      "image/png": "[encoded data removed]",
      "text/plain": [
       "<Figure size 864x504 with 1 Axes>"
      ]
     },
     "metadata": {
      "needs_background": "light"
     },
     "output_type": "display_data"
    }
   ],
   "source": [
    "def plot_slice(data, n_parts, ax, color):\n",
    "    data_slice = data.loc[data['parts'] == n_parts]\n",
    "    data_slice.plot.scatter(x = 'proc', y = 'accel', color=color, label=\"{} parts\".format(n_parts), ax=ax)\n",
    "     \n",
    "fig, ax = plt.subplots(figsize=(12, 7))\n",
    "\n",
    "plot_slice(data, 1000, ax, 'g')\n",
    "plot_slice(data, 1000000, ax, 'r')\n",
    "plot_slice(data, 100000000, ax, 'b')\n",
    "\n",
    "plt.axhline(y=1, color='r', alpha=0.5, linestyle='--')\n",
    "\n",
    "ax.set_ylabel('acceleration')\n",
    "ax.set_xlabel('number of MPI processes')"
   ]
  },
  {
   "cell_type": "markdown",
   "id": "a72a572c-f90c-4789-b19a-08e4e843d725",
   "metadata": {},
   "source": [
    "__Conclusion:__ As we can see, when number of parts in partition is small enough, the acceleration is below 1, so using MPI on small computational tasks is not reasonable. However, when number of parts is more than $1000000$, using MPI gives an acceleration multiple of the number of processes."
   ]
  },
  {
   "cell_type": "code",
   "execution_count": 4,
   "id": "eec3c954-0666-49b1-b859-98ad1647c4c8",
   "metadata": {},
   "outputs": [],
   "source": [
    "fig.savefig(\"report.png\")"
   ]
  },
  {
   "cell_type": "code",
   "execution_count": null,
   "id": "c0a3e488-d4f3-4da0-bd6b-9b97d0d63922",
   "metadata": {},
   "outputs": [],
   "source": []
  }
 ],
 "metadata": {
  "kernelspec": {
   "display_name": "Python 3",
   "language": "python",
   "name": "python3"
  },
  "language_info": {
   "codemirror_mode": {
    "name": "ipython",
    "version": 3
   },
   "file_extension": ".py",
   "mimetype": "text/x-python",
   "name": "python",
   "nbconvert_exporter": "python",
   "pygments_lexer": "ipython3",
   "version": "3.9.7"
  }
 },
 "nbformat": 4,
 "nbformat_minor": 5
}
